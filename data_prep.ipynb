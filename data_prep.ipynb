{
 "cells": [
  {
   "cell_type": "code",
   "execution_count": 16,
   "metadata": {},
   "outputs": [
    {
     "name": "stdout",
     "output_type": "stream",
     "text": [
      "The autoreload extension is already loaded. To reload it, use:\n",
      "  %reload_ext autoreload\n"
     ]
    }
   ],
   "source": [
    "import json\n",
    "import numpy as np\n",
    "import pandas as pd\n",
    "from tqdm import tqdm\n",
    "%load_ext autoreload"
   ]
  },
  {
   "cell_type": "code",
   "execution_count": 100,
   "metadata": {},
   "outputs": [],
   "source": [
    "from LimitOrder import LimitOrder\n",
    "from OrderBook import OrderBookPrep, BUY, SELL, MARKET_ID\n",
    "\n",
    "%autoreload 2"
   ]
  },
  {
   "cell_type": "code",
   "execution_count": 101,
   "metadata": {},
   "outputs": [],
   "source": [
    "with open('diffs.json', 'r', encoding='utf-8') as file_out:\n",
    "    diffs = json.load(file_out)\n",
    "\n",
    "with open('trades.json', 'r', encoding='utf-8') as file_out:\n",
    "    trades = json.load(file_out)\n",
    "\n",
    "with open('init_lob.json', 'r', encoding='utf-8') as file_out:\n",
    "    init_lob = json.load(file_out)\n",
    "\n",
    "init_lob['bids'] = np.array(init_lob['bids']).astype(float)\n",
    "init_lob['asks'] = np.array(init_lob['asks']).astype(float)"
   ]
  },
  {
   "cell_type": "code",
   "execution_count": 102,
   "metadata": {},
   "outputs": [],
   "source": [
    "i = 0\n",
    "while diffs[i]['u'] <= init_lob['lastUpdateId']: i += 1\n",
    "diffs = diffs[i:]\n",
    "\n",
    "i = 0\n",
    "while trades[i]['E'] <= diffs[0]['E']: i += 1\n",
    "trades = trades[i:]"
   ]
  },
  {
   "cell_type": "code",
   "execution_count": 103,
   "metadata": {},
   "outputs": [],
   "source": [
    "trades_by_diff = []\n",
    "\n",
    "trades_index = 0\n",
    "for v in diffs[1:]:\n",
    "    time_to = v['E']\n",
    "    trades_after_diff = []\n",
    "    cur_trade = trades[trades_index]\n",
    "    while cur_trade['T'] <= time_to:\n",
    "        trades_after_diff.append((cur_trade['T'], float(cur_trade['p']), float(cur_trade['q']), int(cur_trade['m'])))\n",
    "        trades_index += 1\n",
    "        cur_trade = trades[trades_index]\n",
    "    trades_by_diff.append(trades_after_diff)\n",
    "\n",
    "new_diffs = []\n",
    "for diff in diffs:\n",
    "    new_diffs.append((diff['E'], np.array(diff['b']).astype(float), \n",
    "                        np.array(diff['a']).astype(float)))"
   ]
  },
  {
   "cell_type": "code",
   "execution_count": 104,
   "metadata": {},
   "outputs": [],
   "source": [
    "order_book = OrderBookPrep.create_lob_init(init_lob)\n",
    "order_book.track_diff(new_diffs[0])\n",
    "pass"
   ]
  },
  {
   "cell_type": "code",
   "execution_count": 105,
   "metadata": {},
   "outputs": [],
   "source": [
    "bids_prepared = []\n",
    "asks_prepared = []\n",
    "\n",
    "for bid in order_book.bids:\n",
    "    bids_prepared.append([bid.price, bid.amount])\n",
    "\n",
    "for ask in order_book.asks:\n",
    "    asks_prepared.append([ask.price, ask.amount])\n",
    "\n",
    "init_lob_prepared = {'lastUpdateId': new_diffs[0][0], 'bids': bids_prepared, 'asks': asks_prepared}\n",
    "\n",
    "with open(\"init_lob_prepared.json\", \"w\") as fp:\n",
    "    json.dump(init_lob_prepared, fp)"
   ]
  },
  {
   "cell_type": "code",
   "execution_count": 123,
   "metadata": {},
   "outputs": [
    {
     "name": "stdout",
     "output_type": "stream",
     "text": [
      "CPU times: user 2 µs, sys: 1 µs, total: 3 µs\n",
      "Wall time: 5.25 µs\n"
     ]
    },
    {
     "name": "stderr",
     "output_type": "stream",
     "text": [
      "100%|██████████| 76/76 [00:00<00:00, 397.81it/s]\n"
     ]
    }
   ],
   "source": [
    "%time\n",
    "\n",
    "order_book = OrderBookPrep.create_lob_init(init_lob)\n",
    "order_book.track_diff(new_diffs[0])\n",
    "trades_prepared = []\n",
    "diffs_prepared = []\n",
    "\n",
    "for i, diff in enumerate(tqdm(new_diffs[1:])):\n",
    "    cur_trades = trades_by_diff[i]\n",
    "    for trade in cur_trades:\n",
    "        side = trade[3]\n",
    "        order_book.set_limit_order(LimitOrder(trade[1], trade[2], side, MARKET_ID))\n",
    "        trades_prepared.append([trade[0], trade[1], trade[2], side])\n",
    "    diffs_prepared.append(order_book.track_diff(diff))"
   ]
  },
  {
   "cell_type": "code",
   "execution_count": 65,
   "metadata": {},
   "outputs": [],
   "source": [
    "trades_prepared = pd.DataFrame(trades_prepared, columns=['timestamp', 'price', 'amount', 'side'])\n",
    "trades_prepared.to_csv('trades_prepared.csv', index=False)\n",
    "\n",
    "with open(\"diffs_prepared.json\", \"w\") as fp:\n",
    "    json.dump(diffs_prepared , fp)"
   ]
  },
  {
   "cell_type": "code",
   "execution_count": null,
   "metadata": {},
   "outputs": [],
   "source": []
  }
 ],
 "metadata": {
  "kernelspec": {
   "display_name": "Python 3",
   "language": "python",
   "name": "python3"
  },
  "language_info": {
   "codemirror_mode": {
    "name": "ipython",
    "version": 3
   },
   "file_extension": ".py",
   "mimetype": "text/x-python",
   "name": "python",
   "nbconvert_exporter": "python",
   "pygments_lexer": "ipython3",
   "version": "3.10.12"
  },
  "orig_nbformat": 4
 },
 "nbformat": 4,
 "nbformat_minor": 2
}
