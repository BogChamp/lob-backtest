{
 "cells": [
  {
   "cell_type": "code",
   "execution_count": 121,
   "metadata": {},
   "outputs": [
    {
     "name": "stdout",
     "output_type": "stream",
     "text": [
      "The autoreload extension is already loaded. To reload it, use:\n",
      "  %reload_ext autoreload\n"
     ]
    }
   ],
   "source": [
    "import numpy as np\n",
    "import pandas as pd\n",
    "import matplotlib.pyplot as plt\n",
    "import json\n",
    "\n",
    "from lobio.lob.limit_order import LimitOrder\n",
    "from lobio.lob.order_book import OrderBook\n",
    "from lobio.lob.price_level import PriceLevel, TraderId, Side\n",
    "\n",
    "%load_ext autoreload\n",
    "%autoreload 2"
   ]
  },
  {
   "cell_type": "code",
   "execution_count": 122,
   "metadata": {},
   "outputs": [
    {
     "name": "stdout",
     "output_type": "stream",
     "text": [
      "True\n",
      "True\n",
      "True\n",
      "True\n",
      "True\n"
     ]
    }
   ],
   "source": [
    "price_level = PriceLevel(LimitOrder(10, 1, Side.BUY, TraderId.MARKET))\n",
    "\n",
    "price_level.add_limit_order(LimitOrder(10, 0.5, Side.BUY, TraderId.MARKET))\n",
    "\n",
    "print(price_level == PriceLevel(LimitOrder(10, 1.5, Side.BUY, TraderId.MARKET)))\n",
    "\n",
    "price_level.add_limit_order(LimitOrder(10, 0.2, Side.BUY, TraderId.MM))\n",
    "\n",
    "print(price_level.traders_order == [LimitOrder(10, 1.5, Side.BUY, TraderId.MARKET), LimitOrder(10, 0.2, Side.BUY, TraderId.MM)])\n",
    "print(price_level.quote == 1.7)\n",
    "\n",
    "price_level.add_limit_order(LimitOrder(10, 0.15, Side.BUY, TraderId.MARKET))\n",
    "\n",
    "print(price_level.traders_order == [LimitOrder(10, 1.5, Side.BUY, TraderId.MARKET), \n",
    "                                    LimitOrder(10, 0.2, Side.BUY, TraderId.MM), \n",
    "                                    LimitOrder(10, 0.15, Side.BUY, TraderId.MARKET)])\n",
    "print(price_level.quote == 1.85)"
   ]
  },
  {
   "cell_type": "code",
   "execution_count": 131,
   "metadata": {},
   "outputs": [
    {
     "name": "stdout",
     "output_type": "stream",
     "text": [
      "True\n",
      "True\n",
      "True\n",
      "True\n",
      "True\n",
      "True\n",
      "True\n",
      "True\n",
      "True\n"
     ]
    }
   ],
   "source": [
    "price_level = PriceLevel(LimitOrder(20, 0.5, Side.BUY, TraderId.MARKET))\n",
    "\n",
    "remain_quote, data = price_level.execute_limit_order(0.2)\n",
    "\n",
    "print(remain_quote == 0.0)\n",
    "print(data == {TraderId.MARKET: 0.2})\n",
    "print(price_level == PriceLevel(LimitOrder(20, 0.3, Side.BUY, TraderId.MARKET)))\n",
    "\n",
    "price_level.add_limit_order(LimitOrder(20, 0.05, Side.BUY, TraderId.MM))\n",
    "remain_quote, data = price_level.execute_limit_order(0.31)\n",
    "\n",
    "print(remain_quote == 0.0)\n",
    "print(data == {TraderId.MARKET: 0.3, TraderId.MM: 0.01})\n",
    "print(price_level == PriceLevel(LimitOrder(20, 0.04, Side.BUY, TraderId.MM)))\n",
    "\n",
    "remain_quote, data = price_level.execute_limit_order(1)\n",
    "\n",
    "print(remain_quote == 0.96)\n",
    "print(data == {TraderId.MM: 0.04})\n",
    "print(price_level.quote == 0 and price_level.traders_order == [])"
   ]
  },
  {
   "cell_type": "code",
   "execution_count": 132,
   "metadata": {},
   "outputs": [],
   "source": [
    "init_lob = {\"lastUpdateId\": 1, \"bids\": [[90, 1]], \"asks\": [[100, 1]]}\n",
    "\n",
    "diffs = [[2, [[90, 1]], [[100, 1]]], \n",
    "         [3, [[89.99, 0.99]], [[100.01, 3]]], \n",
    "         [4, [[94.99, 0.0001], [89.99, -0.01]], [[95, 0.0001], [100.01, -1]]],\n",
    "         [5, [], [[95.01, 0.3], [95.5, 1], [100, 0.1]]],\n",
    "         [6, [[87, 0.01], [90, 0.01], [94.99, 1]], []],\n",
    "         [7, [[90, -1.5], [87, -10]], [[95.01, -0.29], [100, -2.1]]],\n",
    "         [8, [[89.99, -0.98]], [[95, -0.0001]]],\n",
    "         [9, [[90.01, 0.51]], [[95, 1]]]]"
   ]
  },
  {
   "cell_type": "code",
   "execution_count": 133,
   "metadata": {},
   "outputs": [],
   "source": [
    "ob = OrderBook.create_lob_init(init_lob)"
   ]
  },
  {
   "cell_type": "code",
   "execution_count": 134,
   "metadata": {},
   "outputs": [],
   "source": [
    "diff = diffs[0]"
   ]
  },
  {
   "cell_type": "code",
   "execution_count": 135,
   "metadata": {},
   "outputs": [],
   "source": [
    "ob.apply_historical_update(diff)"
   ]
  },
  {
   "cell_type": "code",
   "execution_count": 136,
   "metadata": {},
   "outputs": [
    {
     "data": {
      "text/plain": [
       "True"
      ]
     },
     "execution_count": 136,
     "metadata": {},
     "output_type": "execute_result"
    }
   ],
   "source": [
    "ob.bids == [PriceLevel(LimitOrder(90, 2, 0, 0))]"
   ]
  }
 ],
 "metadata": {
  "kernelspec": {
   "display_name": "Python 3",
   "language": "python",
   "name": "python3"
  },
  "language_info": {
   "codemirror_mode": {
    "name": "ipython",
    "version": 3
   },
   "file_extension": ".py",
   "mimetype": "text/x-python",
   "name": "python",
   "nbconvert_exporter": "python",
   "pygments_lexer": "ipython3",
   "version": "3.11.7"
  }
 },
 "nbformat": 4,
 "nbformat_minor": 2
}
