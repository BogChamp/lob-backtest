{
 "cells": [
  {
   "cell_type": "code",
   "execution_count": 1,
   "metadata": {},
   "outputs": [],
   "source": [
    "import json\n",
    "import numpy as np\n",
    "import pandas as pd\n",
    "from tqdm import tqdm\n",
    "\n",
    "from lobio.lob.limit_order import LimitOrder\n",
    "from lobio.lob.order_book import OrderBookPrep, Side, TraderId\n",
    "\n",
    "%load_ext autoreload\n",
    "%autoreload 2"
   ]
  },
  {
   "cell_type": "code",
   "execution_count": 2,
   "metadata": {},
   "outputs": [],
   "source": []
  },
  {
   "cell_type": "code",
   "execution_count": 3,
   "metadata": {},
   "outputs": [],
   "source": [
    "with open(\"diffs.json\", \"r\", encoding=\"utf-8\") as file_out:\n",
    "    diffs = json.load(file_out)\n",
    "\n",
    "with open(\"trades.json\", \"r\", encoding=\"utf-8\") as file_out:\n",
    "    trades = json.load(file_out)\n",
    "\n",
    "with open(\"init_lob.json\", \"r\", encoding=\"utf-8\") as file_out:\n",
    "    init_lob = json.load(file_out)\n",
    "\n",
    "init_lob[\"bids\"] = np.array(init_lob[\"bids\"]).astype(float)\n",
    "init_lob[\"asks\"] = np.array(init_lob[\"asks\"]).astype(float)"
   ]
  },
  {
   "cell_type": "code",
   "execution_count": 4,
   "metadata": {},
   "outputs": [],
   "source": [
    "i = 0\n",
    "while diffs[i][\"u\"] <= init_lob[\"lastUpdateId\"]:\n",
    "    i += 1\n",
    "diffs = diffs[i:]\n",
    "\n",
    "i = 0\n",
    "while trades[i][\"E\"] <= diffs[0][\"E\"]:\n",
    "    i += 1\n",
    "trades = trades[i:]"
   ]
  },
  {
   "cell_type": "code",
   "execution_count": 5,
   "metadata": {},
   "outputs": [],
   "source": [
    "trades_by_diff = []\n",
    "\n",
    "trades_index = 0\n",
    "for v in diffs[1:]:\n",
    "    time_to = v[\"E\"]\n",
    "    trades_after_diff = []\n",
    "    cur_trade = trades[trades_index]\n",
    "    while cur_trade[\"T\"] <= time_to:\n",
    "        trades_after_diff.append(\n",
    "            (\n",
    "                cur_trade[\"T\"],\n",
    "                float(cur_trade[\"p\"]),\n",
    "                float(cur_trade[\"q\"]),\n",
    "                int(cur_trade[\"m\"]),\n",
    "            )\n",
    "        )\n",
    "        trades_index += 1\n",
    "        cur_trade = trades[trades_index]\n",
    "    trades_by_diff.append(trades_after_diff)\n",
    "\n",
    "new_diffs = []\n",
    "for diff in diffs:\n",
    "    new_diffs.append(\n",
    "        (\n",
    "            diff[\"E\"],\n",
    "            np.array(diff[\"b\"]).astype(float),\n",
    "            np.array(diff[\"a\"]).astype(float),\n",
    "        )\n",
    "    )"
   ]
  },
  {
   "cell_type": "code",
   "execution_count": 6,
   "metadata": {},
   "outputs": [],
   "source": [
    "order_book = OrderBookPrep.create_lob_init(init_lob)\n",
    "order_book.track_diff(new_diffs[0])\n",
    "pass"
   ]
  },
  {
   "cell_type": "code",
   "execution_count": 7,
   "metadata": {},
   "outputs": [],
   "source": [
    "bids_prepared = []\n",
    "asks_prepared = []\n",
    "\n",
    "for bid in order_book.bids:\n",
    "    bids_prepared.append([bid.price, bid.amount])\n",
    "\n",
    "for ask in order_book.asks:\n",
    "    asks_prepared.append([ask.price, ask.amount])\n",
    "\n",
    "init_lob_prepared = {\n",
    "    \"lastUpdateId\": new_diffs[0][0],\n",
    "    \"bids\": bids_prepared,\n",
    "    \"asks\": asks_prepared,\n",
    "}\n",
    "\n",
    "with open(\"init_lob_prepared.json\", \"w\") as fp:\n",
    "    json.dump(init_lob_prepared, fp)"
   ]
  },
  {
   "cell_type": "code",
   "execution_count": 8,
   "metadata": {},
   "outputs": [
    {
     "name": "stdout",
     "output_type": "stream",
     "text": [
      "CPU times: user 2 µs, sys: 1e+03 ns, total: 3 µs\n",
      "Wall time: 5.96 µs\n"
     ]
    },
    {
     "name": "stderr",
     "output_type": "stream",
     "text": [
      "  0%|          | 0/76 [00:00<?, ?it/s]"
     ]
    },
    {
     "name": "stderr",
     "output_type": "stream",
     "text": [
      "100%|██████████| 76/76 [00:00<00:00, 438.64it/s]\n"
     ]
    }
   ],
   "source": [
    "order_book = OrderBookPrep.create_lob_init(init_lob)\n",
    "order_book.track_diff(new_diffs[0])\n",
    "trades_prepared = []\n",
    "diffs_prepared = []\n",
    "\n",
    "for i, diff in enumerate(tqdm(new_diffs[1:])):\n",
    "    cur_trades = trades_by_diff[i]\n",
    "    for trade in cur_trades:\n",
    "        side = trade[3]\n",
    "        order_book.set_limit_order(LimitOrder(trade[1], trade[2], side, MARKET))\n",
    "        trades_prepared.append([trade[0], trade[1], trade[2], side])\n",
    "    diffs_prepared.append(order_book.track_diff(diff))"
   ]
  },
  {
   "cell_type": "code",
   "execution_count": 9,
   "metadata": {},
   "outputs": [],
   "source": [
    "trades_prepared = pd.DataFrame(\n",
    "    trades_prepared, columns=[\"timestamp\", \"price\", \"amount\", \"side\"]\n",
    ")\n",
    "trades_prepared.to_csv(\"trades_prepared.csv\", index=False)\n",
    "\n",
    "with open(\"diffs_prepared.json\", \"w\") as fp:\n",
    "    json.dump(diffs_prepared, fp)"
   ]
  }
 ],
 "metadata": {
  "kernelspec": {
   "display_name": "Python 3",
   "language": "python",
   "name": "python3"
  },
  "language_info": {
   "codemirror_mode": {
    "name": "ipython",
    "version": 3
   },
   "file_extension": ".py",
   "mimetype": "text/x-python",
   "name": "python",
   "nbconvert_exporter": "python",
   "pygments_lexer": "ipython3",
   "version": "3.11.4"
  },
  "orig_nbformat": 4
 },
 "nbformat": 4,
 "nbformat_minor": 2
}
