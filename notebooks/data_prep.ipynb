{
 "cells": [
  {
   "cell_type": "code",
   "execution_count": 1,
   "metadata": {},
   "outputs": [],
   "source": [
    "import json\n",
    "import numpy as np\n",
    "import pandas as pd\n",
    "import polars as pl\n",
    "from tqdm import tqdm\n",
    "from copy import deepcopy\n",
    "\n",
    "from lobio.lob.limit_order import LimitOrder, PRICE_TICK, AMOUNT_TICK\n",
    "from lobio.lob.price_level import Side\n",
    "from lobio.lob.order_book import OrderBookPrep, TraderId\n",
    "\n",
    "%load_ext autoreload\n",
    "%autoreload 2"
   ]
  },
  {
   "cell_type": "code",
   "execution_count": 2,
   "metadata": {},
   "outputs": [],
   "source": [
    "with open(\"../data/diffs.json\", \"r\", encoding=\"utf-8\") as file_out:\n",
    "    diffs = json.load(file_out)\n",
    "\n",
    "with open(\"../data/aggtrades.json\", \"r\", encoding=\"utf-8\") as file_out:\n",
    "    aggtrades = json.load(file_out)\n",
    "\n",
    "with open(\"../data/init_lob.json\", \"r\", encoding=\"utf-8\") as file_out:\n",
    "    init_lob = json.load(file_out)\n",
    "\n",
    "init_lob[\"bids\"] = np.array(init_lob[\"bids\"]).astype(float)\n",
    "init_lob[\"asks\"] = np.array(init_lob[\"asks\"]).astype(float)"
   ]
  },
  {
   "cell_type": "code",
   "execution_count": 3,
   "metadata": {},
   "outputs": [],
   "source": [
    "# prev_T = 0\n",
    "# prev_t = 0\n",
    "# for trade in trades:\n",
    "#     assert trade['T'] >= prev_T\n",
    "#     assert trade['t'] >= prev_t\n",
    "#     prev_T = trade['T']\n",
    "#     prev_t = trade['t']"
   ]
  },
  {
   "cell_type": "code",
   "execution_count": 4,
   "metadata": {},
   "outputs": [],
   "source": [
    "prev_T = 0\n",
    "prev_l = aggtrades[0]['f'] - 1\n",
    "for aggtrade in aggtrades:\n",
    "    assert aggtrade['T'] >= prev_T\n",
    "    assert aggtrade['f'] == prev_l + 1\n",
    "    prev_T = aggtrade['T']\n",
    "    prev_l = aggtrade['l']"
   ]
  },
  {
   "cell_type": "code",
   "execution_count": 5,
   "metadata": {},
   "outputs": [],
   "source": [
    "prev_T = diffs[0]['T']\n",
    "prev_u = diffs[0]['u']\n",
    "for j, diff in enumerate(diffs[1:]):\n",
    "    assert diff['T'] >= prev_T\n",
    "    assert diff['U'] >= prev_u + 1, j\n",
    "    assert diff['pu'] == prev_u\n",
    "    prev_u = diff['u']\n",
    "    prev_T = diff['T']"
   ]
  },
  {
   "cell_type": "code",
   "execution_count": 6,
   "metadata": {},
   "outputs": [],
   "source": [
    "# prev_u = 0\n",
    "# for ticker in tickers:\n",
    "#     assert ticker['u'] > prev_u\n",
    "#     prev_u = ticker['u']"
   ]
  },
  {
   "cell_type": "code",
   "execution_count": 7,
   "metadata": {},
   "outputs": [],
   "source": [
    "i = 0\n",
    "while diffs[i][\"u\"] < init_lob[\"lastUpdateId\"]:\n",
    "    i += 1\n",
    "\n",
    "if len(diffs) > i:\n",
    "    if diffs[i][\"U\"] > init_lob[\"lastUpdateId\"] or diffs[i][\"u\"] < init_lob[\"lastUpdateId\"]:\n",
    "        raise Exception(\"CORRUPTED DATA. DIFF. DEPTH are not consistent.\")\n",
    "else:\n",
    "    raise Exception(\"CORRUPTED DATA. DIFF. DEPTH are not consistent.\")\n",
    "diffs = diffs[i:]\n",
    "\n",
    "i = 0\n",
    "while aggtrades[i]['T'] <= diffs[0][\"T\"]:\n",
    "    i += 1\n",
    "aggtrades = aggtrades[i:]"
   ]
  },
  {
   "cell_type": "code",
   "execution_count": 8,
   "metadata": {},
   "outputs": [],
   "source": [
    "new_diffs = []\n",
    "for diff in diffs:\n",
    "    cur_bids = np.array(diff[\"b\"]).astype(float)\n",
    "    cur_asks = np.array(diff[\"a\"]).astype(float)\n",
    "    new_diffs.append(\n",
    "        (\n",
    "            diff[\"T\"],\n",
    "            cur_bids,\n",
    "            cur_asks,\n",
    "        )\n",
    "    )"
   ]
  },
  {
   "cell_type": "code",
   "execution_count": 9,
   "metadata": {},
   "outputs": [],
   "source": [
    "order_book = OrderBookPrep.create_lob_init(init_lob)\n",
    "order_book.track_diff(new_diffs[0])\n",
    "new_diffs = new_diffs[1:]"
   ]
  },
  {
   "cell_type": "code",
   "execution_count": 10,
   "metadata": {},
   "outputs": [],
   "source": [
    "diff_sequence = []\n",
    "for diff in new_diffs:\n",
    "    ts = diff[0]\n",
    "    bids = diff[1]\n",
    "    asks = diff[2]\n",
    "\n",
    "    for bid in bids[::-1]:\n",
    "        diff_sequence.append((ts, bid[0], bid[1], Side.BUY))\n",
    "\n",
    "    for ask in asks:\n",
    "        diff_sequence.append((ts, ask[0], ask[1], Side.SELL))"
   ]
  },
  {
   "cell_type": "code",
   "execution_count": 11,
   "metadata": {},
   "outputs": [],
   "source": [
    "diffs_prepared = pl.DataFrame(diff_sequence, ('T', 'base', 'quote', 'side'))\n",
    "diffs_prepared = diffs_prepared.with_columns((pl.col('base') * 10**PRICE_TICK).round().cast(pl.UInt32), \n",
    "                       (pl.col('quote') * 10**AMOUNT_TICK).round().cast(pl.UInt64), \n",
    "                       pl.col('side').cast(pl.Int8),\n",
    "                       pl.col('T').cast(pl.UInt64))"
   ]
  },
  {
   "cell_type": "code",
   "execution_count": 12,
   "metadata": {},
   "outputs": [],
   "source": [
    "diffs_prepared.write_parquet(\"../data/diffs_prepared.parquet\")"
   ]
  },
  {
   "cell_type": "code",
   "execution_count": 31,
   "metadata": {},
   "outputs": [],
   "source": [
    "bids_prepared = []\n",
    "asks_prepared = []\n",
    "min_len = min(len(order_book.bids), len(order_book.asks))\n",
    "\n",
    "for bid in order_book.bids[:min_len]:\n",
    "    bids_prepared.append([bid.base, bid.quote])\n",
    "\n",
    "for ask in order_book.asks[:min_len]:\n",
    "    asks_prepared.append([ask.base, ask.quote])"
   ]
  },
  {
   "cell_type": "code",
   "execution_count": 32,
   "metadata": {},
   "outputs": [],
   "source": [
    "init_lob_data = np.concatenate([bids_prepared, asks_prepared], axis=1)\n",
    "init_lob_data[:, [0, 2]] *= 10**PRICE_TICK\n",
    "init_lob_data[:, [1, 3]] *= 10**AMOUNT_TICK\n",
    "init_lob_data = np.round(init_lob_data)\n",
    "init_lob_data = np.append(init_lob_data, [[diffs[0]['T']] * init_lob_data.shape[1]], axis=0).astype(int)"
   ]
  },
  {
   "cell_type": "code",
   "execution_count": 16,
   "metadata": {},
   "outputs": [],
   "source": [
    "with open('../data/init_lob_prepared.npy', 'wb') as f:\n",
    "    np.save(f, init_lob_data)"
   ]
  },
  {
   "cell_type": "code",
   "execution_count": 50,
   "metadata": {},
   "outputs": [],
   "source": [
    "aggtrades_raw = []\n",
    "for aggtrade in aggtrades:\n",
    "    side = Side.BUY if aggtrade['m'] else Side.SELL\n",
    "    aggtrades_raw.append((aggtrade['T'], float(aggtrade['p']), float(aggtrade['q']), side))"
   ]
  },
  {
   "cell_type": "code",
   "execution_count": 51,
   "metadata": {},
   "outputs": [],
   "source": [
    "aggtrades_raw = pl.DataFrame(aggtrades_raw, ('T', 'base', 'quote', 'side'))\n",
    "aggtrades_raw = aggtrades_raw.with_columns((pl.col('base') * 10**PRICE_TICK).round().cast(pl.UInt32), \n",
    "                       (pl.col('quote') * 10**AMOUNT_TICK).round().cast(pl.UInt64), \n",
    "                       pl.col('side').cast(pl.Int8),\n",
    "                       pl.col('T').cast(pl.UInt64))"
   ]
  },
  {
   "cell_type": "code",
   "execution_count": 52,
   "metadata": {},
   "outputs": [],
   "source": [
    "aggtrades_raw.write_parquet(\"../data/aggtrades_raw.parquet\")"
   ]
  },
  {
   "cell_type": "code",
   "execution_count": 84,
   "metadata": {},
   "outputs": [],
   "source": [
    "# i = 0\n",
    "# for j, diff in enumerate(new_diffs[1:]):\n",
    "#     order_book.track_diff(diff)\n",
    "#     while (i < len(tickers)) and tickers[i]['u'] <= diffs[j+1]['u']:\n",
    "#         i += 1\n",
    "#     ob_best_bids = order_book.bids[0]\n",
    "#     ob_best_asks = order_book.asks[0]\n",
    "#     assert float(tickers[i-1]['b']) == ob_best_bids.base\n",
    "#     assert float(tickers[i-1]['B']) == ob_best_bids.quote\n",
    "#     assert float(tickers[i-1]['a']) == ob_best_asks.base\n",
    "#     assert float(tickers[i-1]['A']) == ob_best_asks.quote"
   ]
  }
 ],
 "metadata": {
  "kernelspec": {
   "display_name": "Python 3",
   "language": "python",
   "name": "python3"
  },
  "language_info": {
   "codemirror_mode": {
    "name": "ipython",
    "version": 3
   },
   "file_extension": ".py",
   "mimetype": "text/x-python",
   "name": "python",
   "nbconvert_exporter": "python",
   "pygments_lexer": "ipython3",
   "version": "3.11.7"
  },
  "orig_nbformat": 4
 },
 "nbformat": 4,
 "nbformat_minor": 2
}
