{
 "cells": [
  {
   "cell_type": "code",
   "execution_count": 1,
   "metadata": {},
   "outputs": [],
   "source": [
    "import numpy as np\n",
    "import polars as pl\n",
    "from tqdm import tqdm\n",
    "import matplotlib.pyplot as plt\n",
    "import numba as nb\n",
    "from numba import njit"
   ]
  },
  {
   "cell_type": "code",
   "execution_count": 2,
   "metadata": {},
   "outputs": [],
   "source": [
    "book = pl.read_csv('./exchange_data/book.csv')\n",
    "trades = pl.read_csv('./exchange_data/trades.csv')"
   ]
  },
  {
   "cell_type": "code",
   "execution_count": 3,
   "metadata": {},
   "outputs": [
    {
     "data": {
      "text/plain": [
       "(9904, 7977)"
      ]
     },
     "execution_count": 3,
     "metadata": {},
     "output_type": "execute_result"
    }
   ],
   "source": [
    "len(book), len(trades)"
   ]
  },
  {
   "cell_type": "code",
   "execution_count": 4,
   "metadata": {},
   "outputs": [],
   "source": [
    "def compute_imbalances(ask_prices, ask_amounts, bid_prices, bid_amounts):\n",
    "    ask_eligible = [ask_amounts[i] for i, v in enumerate(ask_prices) \\\n",
    "                    if v < (ask_prices[0] * 1.0005)]\n",
    "    median_index = len(ask_eligible) // 2\n",
    "    if len(ask_eligible) % 2:\n",
    "        ask_median = ask_eligible[median_index]\n",
    "    else:\n",
    "        ask_median = (ask_eligible[median_index] + ask_eligible[median_index - 1]) / 2\n",
    "    \n",
    "    bid_eligible = [bid_amounts[i] for i, v in enumerate(bid_prices) \\\n",
    "                    if v > (bid_prices[0] * 0.9995)]\n",
    "    median_index = len(bid_eligible) // 2\n",
    "    if len(bid_eligible) % 2:\n",
    "        bid_median = bid_eligible[median_index]\n",
    "    else:\n",
    "        bid_median = (bid_eligible[median_index] + bid_eligible[median_index - 1]) / 2\n",
    "\n",
    "    median = (ask_median + bid_median) / 2\n",
    "\n",
    "    size = median\n",
    "    money = 0\n",
    "    for i, amount in enumerate(ask_amounts):\n",
    "        if np.isclose(size, 0):\n",
    "            break\n",
    "        else:\n",
    "            if amount < size:\n",
    "                size -= amount\n",
    "                money += ask_prices[i] * amount\n",
    "            else:\n",
    "                money += ask_prices[i] * size\n",
    "                size = 0\n",
    "    ask_imbalance = ((money / median) / ask_prices[0] - 1) * 10**5\n",
    "\n",
    "    size = median\n",
    "    money = 0\n",
    "    for i, amount in enumerate(bid_amounts):\n",
    "        if np.isclose(size, 0):\n",
    "            break\n",
    "        else:\n",
    "            if amount < size:\n",
    "                size -= amount\n",
    "                money += bid_prices[i] * amount\n",
    "            else:\n",
    "                money += bid_prices[i] * size\n",
    "                size = 0\n",
    "                \n",
    "    bid_imbalance = (bid_prices[0] / (money / median) - 1) * 10**5\n",
    "\n",
    "    return (ask_imbalance, bid_imbalance)\n",
    "\n",
    "def compute_improved_imbalance(ob_snapshot):\n",
    "    ts, data = ob_snapshot[0], ob_snapshot[1:]\n",
    "    ask_prices = data[::4]\n",
    "    ask_amounts = data[1::4]\n",
    "    bid_prices = data[2::4]\n",
    "    bid_amounts = data[3::4]\n",
    "    ask_imbalance, bid_imbalance = compute_imbalances(ask_prices, ask_amounts, \n",
    "                                                        bid_prices, bid_amounts)\n",
    "    \n",
    "    return ts, ask_imbalance, bid_imbalance\n",
    "\n",
    "def numba_imb(dataset: np.ndarray):\n",
    "    tuples = [(0, 0.0, 0.0)] * dataset.shape[0]\n",
    "    for i, row in enumerate(dataset):\n",
    "        tuples[i] = compute_improved_imbalance(row)\n",
    "    \n",
    "    return tuples"
   ]
  },
  {
   "cell_type": "code",
   "execution_count": 5,
   "metadata": {},
   "outputs": [],
   "source": [
    "tuples = numba_imb(book.to_numpy())"
   ]
  },
  {
   "cell_type": "code",
   "execution_count": 6,
   "metadata": {},
   "outputs": [],
   "source": [
    "improved_imbalance = pl.DataFrame(data=np.array(tuples)).rename(\n",
    "    {'column_0': 'timestamp', 'column_1': 'imbalance_ask', 'column_2': 'imbalance_bid'}\n",
    ").with_columns(pl.from_epoch(pl.col(\"timestamp\"), time_unit=\"ms\")).set_sorted('timestamp')"
   ]
  },
  {
   "cell_type": "code",
   "execution_count": 7,
   "metadata": {},
   "outputs": [],
   "source": [
    "trades = trades.set_sorted('timestamp').with_columns(\n",
    "    pl.from_epoch(pl.col(\"timestamp\"), time_unit=\"ms\"))\n",
    "\n",
    "trades = trades.with_columns(side=2*pl.col('side')-1)"
   ]
  },
  {
   "cell_type": "code",
   "execution_count": 8,
   "metadata": {},
   "outputs": [
    {
     "name": "stderr",
     "output_type": "stream",
     "text": [
      "100%|██████████| 1/1 [00:00<00:00, 100.12it/s]\n"
     ]
    }
   ],
   "source": [
    "trades_windows = [1000] #[100, 250, 500, 1000, 2000] # in ms\n",
    "\n",
    "for window in tqdm(trades_windows):\n",
    "    trades = trades.with_columns(trades.rolling(period=f\"{window}ms\", index_column=\"timestamp\", \n",
    "               closed=\"right\").agg(\n",
    "               pl.sum('side').alias(f\"trade_imbalance_{window}ms\")))"
   ]
  },
  {
   "cell_type": "code",
   "execution_count": 9,
   "metadata": {},
   "outputs": [],
   "source": [
    "def calculate_past_returns(trades_avg, delta):\n",
    "    past_returns = [0.0 for i in range(trades_avg.shape[0])]\n",
    "    \n",
    "    start_index = 0\n",
    "    delta_ms = delta\n",
    "    \n",
    "    for i, v in enumerate(trades_avg):\n",
    "        while (v[0] - trades_avg[start_index][0]) > delta_ms:\n",
    "            start_index += 1\n",
    "\n",
    "        if np.isclose(trades_avg[start_index][1], 0):\n",
    "            past_returns[i] = 0\n",
    "        else:\n",
    "            past_returns[i] = (v[1] / trades_avg[start_index][1] - 1) * 10**5\n",
    "    \n",
    "    return past_returns"
   ]
  },
  {
   "cell_type": "code",
   "execution_count": 10,
   "metadata": {},
   "outputs": [
    {
     "name": "stderr",
     "output_type": "stream",
     "text": [
      "  0%|          | 0/1 [00:00<?, ?it/s]"
     ]
    },
    {
     "name": "stderr",
     "output_type": "stream",
     "text": [
      "100%|██████████| 1/1 [00:00<00:00,  3.12it/s]\n"
     ]
    }
   ],
   "source": [
    "past_returns_window = 1000 # in ms\n",
    "\n",
    "averaged_trades = trades.with_columns(\n",
    "    ((pl.col('amount') * pl.col('price')).rolling_sum(\n",
    "        window_size=f\"{past_returns_window}ms\", by=\"timestamp\", \n",
    "        closed=\"right\") / pl.col('amount').rolling_sum(\n",
    "        window_size=f\"{past_returns_window}ms\", by=\"timestamp\", \n",
    "        closed=\"right\")).alias(f\"averaged_{past_returns_window}ms\")).select(\n",
    "    [\"timestamp\", f\"averaged_{past_returns_window}ms\"])\n",
    "\n",
    "averaged_trades_numpy = averaged_trades.with_columns(\n",
    "    pl.col('timestamp').dt.timestamp('ms')).to_numpy()\n",
    "\n",
    "\n",
    "trades_windows = [5000] #[100, 250, 500, 1000, 2000]\n",
    "\n",
    "past_returns_array = []\n",
    "for window in tqdm(trades_windows):\n",
    "    past_returns_array.append(calculate_past_returns(averaged_trades_numpy, window))"
   ]
  },
  {
   "cell_type": "code",
   "execution_count": 11,
   "metadata": {},
   "outputs": [],
   "source": [
    "trades = trades.with_columns(\n",
    "    [pl.Series(past_returns_array[i]).alias(\n",
    "        f\"past_returns_{window}ms\") for i, window in enumerate(trades_windows)])"
   ]
  },
  {
   "cell_type": "code",
   "execution_count": 12,
   "metadata": {},
   "outputs": [],
   "source": [
    "trades = trades.with_columns(\n",
    "    pl.col('price').log().diff().fill_null(0).alias('log_return'))"
   ]
  },
  {
   "cell_type": "code",
   "execution_count": 13,
   "metadata": {},
   "outputs": [],
   "source": [
    "trades_log_returns = trades.select(['timestamp', 'log_return']).with_columns(\n",
    "    pl.col('timestamp').dt.timestamp('ms')).to_numpy()"
   ]
  },
  {
   "cell_type": "code",
   "execution_count": 14,
   "metadata": {},
   "outputs": [],
   "source": [
    "autocorrelation_time_window = 10**4 # ms\n",
    "\n",
    "def shift(xs, n):\n",
    "    e = np.empty_like(xs, np.float64)\n",
    "    e[:n] = 0.0\n",
    "    e[n:] = xs[:-n]\n",
    "    return e\n",
    "\n",
    "def data_autocorrelation(time_series, \n",
    "                         lags, \n",
    "                         time_window):\n",
    "    autocorrelations = [[0.0 for i in range(time_series.shape[0])] for j in lags]\n",
    "    ts = time_series[:, 0]\n",
    "    prices = time_series[:, 1]\n",
    "    lag_prices_prod = [np.cumsum(prices * shift(prices, lag)) for lag in lags]\n",
    "\n",
    "    cum_prices = np.cumsum(prices)\n",
    "    cum_prices_2 = np.cumsum(prices**2)\n",
    "    \n",
    "    start_index = 0\n",
    "    delta_ms = time_window\n",
    "    \n",
    "    for i, v in enumerate(ts):\n",
    "        while (v - ts[start_index]) > delta_ms:\n",
    "            start_index += 1\n",
    "        \n",
    "        for j, lag in enumerate(lags):\n",
    "            n = i - start_index + 1 - lag\n",
    "            if n <= 1 or start_index == 0:\n",
    "                autocorrelations[j][i] = 0\n",
    "            else:\n",
    "                sum_x_2 = cum_prices_2[i] - cum_prices_2[start_index + lag - 1]\n",
    "                sum_x = cum_prices[i] - cum_prices[start_index + lag - 1]\n",
    "                sum_y_2 = cum_prices_2[i - lag] - cum_prices_2[start_index - 1]\n",
    "                sum_y = cum_prices[i - lag] - cum_prices[start_index - 1]\n",
    "                denominator = (n * sum_x_2 - sum_x**2) * (n * sum_y_2 - sum_y**2)\n",
    "                \n",
    "                sum_xy = lag_prices_prod[j][i] - lag_prices_prod[j][start_index + lag - 1]\n",
    "                numerator = n * sum_xy - sum_x * sum_y\n",
    "                \n",
    "                if np.isclose(numerator, 0):\n",
    "                    autocorrelations[j][i] = 0.0\n",
    "                elif denominator > 0:\n",
    "                    autocorrelations[j][i] = np.divide(numerator, np.sqrt(denominator))\n",
    "                else:\n",
    "                    autocorrelations[j][i] = 0.0\n",
    "    \n",
    "    return autocorrelations"
   ]
  },
  {
   "cell_type": "code",
   "execution_count": 15,
   "metadata": {},
   "outputs": [],
   "source": [
    "lags = np.array([1])\n",
    "\n",
    "autocorrelations_per_lag = data_autocorrelation(\n",
    "    trades_log_returns, lags, autocorrelation_time_window)\n",
    "\n",
    "autocorrelations_per_lag = np.array(autocorrelations_per_lag)\n",
    "\n",
    "trades = trades.with_columns([pl.Series(autocorrelations_per_lag[i]).alias(\n",
    "    f\"auto_corr{v}lag\").clip(-1, 1) for i, v in enumerate(lags)])"
   ]
  },
  {
   "cell_type": "code",
   "execution_count": 16,
   "metadata": {},
   "outputs": [],
   "source": [
    "realized_volatility_time_window = 10**5 # ms\n",
    "\n",
    "trades = trades.with_columns(pl.col('log_return').pow(2).rolling_sum(\n",
    "    window_size=f\"{realized_volatility_time_window}ms\", by=\"timestamp\", closed=\"right\"\n",
    ").pow(0.5).fill_nan(0).alias('realized_volatility'))"
   ]
  },
  {
   "cell_type": "code",
   "execution_count": 17,
   "metadata": {},
   "outputs": [],
   "source": [
    "realized_kernel_time_window = 10**4 # ms\n",
    "\n",
    "def shift(xs, n):\n",
    "    if n == 0:\n",
    "        return xs.copy()\n",
    "    e = np.empty_like(xs, np.float64)\n",
    "    e[:n] = 0.0\n",
    "    e[n:] = xs[:-n]\n",
    "    return e\n",
    "\n",
    "\n",
    "def parzen_kernel(x):\n",
    "    x = abs(x)\n",
    "    if x >= 1:\n",
    "        return 0\n",
    "    elif x >= 0.5:\n",
    "        return 2 * (1 - x)**3\n",
    "    else:\n",
    "        return 1 - 6 * x**2 * (1 - x)\n",
    "\n",
    "\n",
    "def data_realized_kernel(time_series, \n",
    "                         H, \n",
    "                         time_window):\n",
    "\n",
    "    autocorrelations = [0.0 for l in range(time_series.shape[0])]\n",
    "    \n",
    "    ts = time_series[:, 0]\n",
    "    prices = time_series[:, 1]\n",
    "    \n",
    "    lag_prices_prod = [np.cumsum(prices * shift(prices, lag)) for lag in range(H+1)]\n",
    "    kernel_values = [parzen_kernel(k / H) for k in range(1, H + 1)]\n",
    "\n",
    "    start_index = 0\n",
    "    delta_ms = time_window\n",
    "\n",
    "    for i, v in enumerate(ts):\n",
    "        while (v - ts[start_index]) > delta_ms:\n",
    "            start_index += 1\n",
    "        \n",
    "        if start_index == 0:\n",
    "            autocorrelations[i] = 0\n",
    "        else:\n",
    "            kernel_range = min(i + 1 - start_index, H)\n",
    "            res = lag_prices_prod[0][i] - lag_prices_prod[0][start_index - 1]\n",
    "            for j in range(1, kernel_range+1):\n",
    "                res += 2 * kernel_values[j - 1] * (lag_prices_prod[j][i] - \\\n",
    "                                            lag_prices_prod[j][start_index + j - 1])\n",
    "            autocorrelations[i] = res\n",
    "    \n",
    "    return autocorrelations"
   ]
  },
  {
   "cell_type": "code",
   "execution_count": 18,
   "metadata": {},
   "outputs": [],
   "source": [
    "H = 3\n",
    "realized_kernel_per_H = []\n",
    "\n",
    "realized_kernel_per_H = np.array(data_realized_kernel(\n",
    "    trades_log_returns, H, realized_kernel_time_window))\n",
    "\n"
   ]
  },
  {
   "cell_type": "code",
   "execution_count": 19,
   "metadata": {},
   "outputs": [],
   "source": [
    "trades = trades.with_columns(pl.Series(\n",
    "    realized_kernel_per_H).alias(f\"real_kernel_H{H}\"))"
   ]
  },
  {
   "cell_type": "code",
   "execution_count": 20,
   "metadata": {},
   "outputs": [],
   "source": [
    "book = book.with_columns(midprice_w = (pl.col('ask[0].price') * pl.col('bid[0].amount') + \n",
    "                     pl.col('bid[0].price') * pl.col('ask[0].amount')) / \n",
    "                   (pl.col('bid[0].amount') + pl.col('ask[0].amount')))"
   ]
  },
  {
   "cell_type": "code",
   "execution_count": 21,
   "metadata": {},
   "outputs": [],
   "source": [
    "book = book.with_columns((pl.col('ask[0].price') - pl.col('bid[0].price')).alias('spread'))"
   ]
  },
  {
   "cell_type": "code",
   "execution_count": 22,
   "metadata": {},
   "outputs": [],
   "source": [
    "book = book.with_columns(((pl.col('ask[0].price') + pl.col('bid[0].price')) / 2).alias('mid_price'))"
   ]
  },
  {
   "cell_type": "code",
   "execution_count": 23,
   "metadata": {},
   "outputs": [],
   "source": [
    "book = book.select(['timestamp', 'midprice_w', 'spread', 'mid_price']).with_columns(pl.from_epoch(pl.col(\"timestamp\"), time_unit=\"ms\")).set_sorted('timestamp')"
   ]
  },
  {
   "cell_type": "code",
   "execution_count": 24,
   "metadata": {},
   "outputs": [],
   "source": [
    "features = book.join_asof(improved_imbalance, on='timestamp', strategy='backward')"
   ]
  },
  {
   "cell_type": "code",
   "execution_count": 25,
   "metadata": {},
   "outputs": [],
   "source": [
    "features = features.join_asof(trades.drop(['price', 'amount', 'side']), \n",
    "                              on='timestamp', strategy='backward').fill_null(0\n",
    "                                                                             ).with_columns(pl.col('timestamp').dt.timestamp('ms'))"
   ]
  },
  {
   "cell_type": "code",
   "execution_count": 27,
   "metadata": {},
   "outputs": [],
   "source": [
    "features.write_csv('features.csv')"
   ]
  },
  {
   "cell_type": "code",
   "execution_count": 26,
   "metadata": {},
   "outputs": [
    {
     "data": {
      "text/html": [
       "<div><style>\n",
       ".dataframe > thead > tr,\n",
       ".dataframe > tbody > tr {\n",
       "  text-align: right;\n",
       "  white-space: pre-wrap;\n",
       "}\n",
       "</style>\n",
       "<small>shape: (9_904, 12)</small><table border=\"1\" class=\"dataframe\"><thead><tr><th>timestamp</th><th>midprice_w</th><th>spread</th><th>mid_price</th><th>imbalance_ask</th><th>imbalance_bid</th><th>trade_imbalance_1000ms</th><th>past_returns_5000ms</th><th>log_return</th><th>auto_corr1lag</th><th>realized_volatility</th><th>real_kernel_H3</th></tr><tr><td>i64</td><td>f64</td><td>f64</td><td>f64</td><td>f64</td><td>f64</td><td>i64</td><td>f64</td><td>f64</td><td>f64</td><td>f64</td><td>f64</td></tr></thead><tbody><tr><td>1700251145100</td><td>1938.499671</td><td>0.01</td><td>1938.495</td><td>1.778173</td><td>-1.1102e-11</td><td>0</td><td>0.0</td><td>0.0</td><td>0.0</td><td>0.0</td><td>0.0</td></tr><tr><td>1700251145201</td><td>1938.493591</td><td>0.01</td><td>1938.495</td><td>0.0</td><td>-1.1102e-11</td><td>0</td><td>0.0</td><td>0.0</td><td>0.0</td><td>0.0</td><td>0.0</td></tr><tr><td>1700251145301</td><td>1938.492478</td><td>0.01</td><td>1938.495</td><td>0.0</td><td>-1.1102e-11</td><td>2</td><td>0.0</td><td>0.0</td><td>0.0</td><td>0.0</td><td>0.0</td></tr><tr><td>1700251145401</td><td>1938.492249</td><td>0.01</td><td>1938.495</td><td>0.0</td><td>-1.1102e-11</td><td>2</td><td>0.0</td><td>0.0</td><td>0.0</td><td>0.0</td><td>0.0</td></tr><tr><td>1700251145501</td><td>1938.49186</td><td>0.01</td><td>1938.495</td><td>0.0</td><td>-1.1102e-11</td><td>2</td><td>0.0</td><td>0.0</td><td>0.0</td><td>0.0</td><td>0.0</td></tr><tr><td>1700251145601</td><td>1938.491446</td><td>0.01</td><td>1938.495</td><td>0.0</td><td>-1.1102e-11</td><td>2</td><td>0.0</td><td>0.0</td><td>0.0</td><td>0.0</td><td>0.0</td></tr><tr><td>1700251145701</td><td>1938.491446</td><td>0.01</td><td>1938.495</td><td>0.0</td><td>-1.1102e-11</td><td>2</td><td>0.0</td><td>0.0</td><td>0.0</td><td>0.0</td><td>0.0</td></tr><tr><td>1700251145801</td><td>1938.490995</td><td>0.01</td><td>1938.495</td><td>0.0</td><td>0.0</td><td>2</td><td>0.0</td><td>0.0</td><td>0.0</td><td>0.0</td><td>0.0</td></tr><tr><td>1700251145901</td><td>1938.490985</td><td>0.01</td><td>1938.495</td><td>0.0</td><td>0.0</td><td>2</td><td>0.0</td><td>0.0</td><td>0.0</td><td>0.0</td><td>0.0</td></tr><tr><td>1700251146001</td><td>1938.490906</td><td>0.01</td><td>1938.495</td><td>0.0</td><td>2.2204e-11</td><td>2</td><td>0.0</td><td>0.0</td><td>0.0</td><td>0.0</td><td>0.0</td></tr><tr><td>1700251146101</td><td>1938.490906</td><td>0.01</td><td>1938.495</td><td>-1.1102e-11</td><td>0.0</td><td>2</td><td>0.0</td><td>0.0</td><td>0.0</td><td>0.0</td><td>0.0</td></tr><tr><td>1700251146201</td><td>1938.490906</td><td>0.01</td><td>1938.495</td><td>-1.1102e-11</td><td>0.0</td><td>2</td><td>0.0</td><td>0.0</td><td>0.0</td><td>0.0</td><td>0.0</td></tr><tr><td>&hellip;</td><td>&hellip;</td><td>&hellip;</td><td>&hellip;</td><td>&hellip;</td><td>&hellip;</td><td>&hellip;</td><td>&hellip;</td><td>&hellip;</td><td>&hellip;</td><td>&hellip;</td><td>&hellip;</td></tr><tr><td>1700252143894</td><td>1949.55391</td><td>0.01</td><td>1949.555</td><td>0.0</td><td>0.0</td><td>-1</td><td>-15.317002</td><td>0.000005</td><td>0.51722</td><td>0.000279</td><td>2.3887e-8</td></tr><tr><td>1700252143994</td><td>1949.55391</td><td>0.01</td><td>1949.555</td><td>0.0</td><td>0.0</td><td>-1</td><td>-15.317002</td><td>0.000005</td><td>0.51722</td><td>0.000279</td><td>2.3887e-8</td></tr><tr><td>1700252144094</td><td>1949.55391</td><td>0.01</td><td>1949.555</td><td>0.0</td><td>0.0</td><td>-1</td><td>-15.317002</td><td>0.000005</td><td>0.51722</td><td>0.000279</td><td>2.3887e-8</td></tr><tr><td>1700252144194</td><td>1949.55391</td><td>0.01</td><td>1949.555</td><td>0.0</td><td>0.0</td><td>-1</td><td>-15.317002</td><td>0.000005</td><td>0.51722</td><td>0.000279</td><td>2.3887e-8</td></tr><tr><td>1700252144294</td><td>1949.55391</td><td>0.01</td><td>1949.555</td><td>0.0</td><td>-1.1102e-11</td><td>-1</td><td>-6.546818</td><td>0.0</td><td>0.345671</td><td>0.000278</td><td>1.8531e-8</td></tr><tr><td>1700252144394</td><td>1949.553911</td><td>0.01</td><td>1949.555</td><td>0.0</td><td>0.0</td><td>-1</td><td>-6.546818</td><td>0.0</td><td>0.345671</td><td>0.000278</td><td>1.8531e-8</td></tr><tr><td>1700252144494</td><td>1949.553942</td><td>0.01</td><td>1949.555</td><td>0.0</td><td>-1.1102e-11</td><td>-3</td><td>-6.154856</td><td>0.0</td><td>0.344811</td><td>0.000278</td><td>1.7243e-8</td></tr><tr><td>1700252144594</td><td>1949.553957</td><td>0.01</td><td>1949.555</td><td>0.0</td><td>0.0</td><td>-3</td><td>-6.154856</td><td>0.0</td><td>0.344811</td><td>0.000278</td><td>1.7243e-8</td></tr><tr><td>1700252144694</td><td>1949.556222</td><td>0.01</td><td>1949.555</td><td>0.0</td><td>-1.1102e-11</td><td>-3</td><td>-6.154856</td><td>0.0</td><td>0.344811</td><td>0.000278</td><td>1.7243e-8</td></tr><tr><td>1700252144794</td><td>1949.559782</td><td>0.01</td><td>1949.555</td><td>7.921082</td><td>2.2204e-11</td><td>-3</td><td>-6.154856</td><td>0.0</td><td>0.344811</td><td>0.000278</td><td>1.7243e-8</td></tr><tr><td>1700252144894</td><td>1949.559782</td><td>0.01</td><td>1949.555</td><td>7.718537</td><td>0.0</td><td>-3</td><td>-6.154856</td><td>0.0</td><td>0.326737</td><td>0.000278</td><td>1.7245e-8</td></tr><tr><td>1700252144994</td><td>1949.738636</td><td>0.01</td><td>1949.735</td><td>0.0</td><td>0.0</td><td>-3</td><td>-6.154856</td><td>0.0</td><td>0.326737</td><td>0.000278</td><td>1.7245e-8</td></tr></tbody></table></div>"
      ],
      "text/plain": [
       "shape: (9_904, 12)\n",
       "┌────────────┬────────────┬────────┬───────────┬───┬───────────┬───────────┬───────────┬───────────┐\n",
       "│ timestamp  ┆ midprice_w ┆ spread ┆ mid_price ┆ … ┆ log_retur ┆ auto_corr ┆ realized_ ┆ real_kern │\n",
       "│ ---        ┆ ---        ┆ ---    ┆ ---       ┆   ┆ n         ┆ 1lag      ┆ volatilit ┆ el_H3     │\n",
       "│ i64        ┆ f64        ┆ f64    ┆ f64       ┆   ┆ ---       ┆ ---       ┆ y         ┆ ---       │\n",
       "│            ┆            ┆        ┆           ┆   ┆ f64       ┆ f64       ┆ ---       ┆ f64       │\n",
       "│            ┆            ┆        ┆           ┆   ┆           ┆           ┆ f64       ┆           │\n",
       "╞════════════╪════════════╪════════╪═══════════╪═══╪═══════════╪═══════════╪═══════════╪═══════════╡\n",
       "│ 1700251145 ┆ 1938.49967 ┆ 0.01   ┆ 1938.495  ┆ … ┆ 0.0       ┆ 0.0       ┆ 0.0       ┆ 0.0       │\n",
       "│ 100        ┆ 1          ┆        ┆           ┆   ┆           ┆           ┆           ┆           │\n",
       "│ 1700251145 ┆ 1938.49359 ┆ 0.01   ┆ 1938.495  ┆ … ┆ 0.0       ┆ 0.0       ┆ 0.0       ┆ 0.0       │\n",
       "│ 201        ┆ 1          ┆        ┆           ┆   ┆           ┆           ┆           ┆           │\n",
       "│ 1700251145 ┆ 1938.49247 ┆ 0.01   ┆ 1938.495  ┆ … ┆ 0.0       ┆ 0.0       ┆ 0.0       ┆ 0.0       │\n",
       "│ 301        ┆ 8          ┆        ┆           ┆   ┆           ┆           ┆           ┆           │\n",
       "│ 1700251145 ┆ 1938.49224 ┆ 0.01   ┆ 1938.495  ┆ … ┆ 0.0       ┆ 0.0       ┆ 0.0       ┆ 0.0       │\n",
       "│ 401        ┆ 9          ┆        ┆           ┆   ┆           ┆           ┆           ┆           │\n",
       "│ …          ┆ …          ┆ …      ┆ …         ┆ … ┆ …         ┆ …         ┆ …         ┆ …         │\n",
       "│ 1700252144 ┆ 1949.55622 ┆ 0.01   ┆ 1949.555  ┆ … ┆ 0.0       ┆ 0.344811  ┆ 0.000278  ┆ 1.7243e-8 │\n",
       "│ 694        ┆ 2          ┆        ┆           ┆   ┆           ┆           ┆           ┆           │\n",
       "│ 1700252144 ┆ 1949.55978 ┆ 0.01   ┆ 1949.555  ┆ … ┆ 0.0       ┆ 0.344811  ┆ 0.000278  ┆ 1.7243e-8 │\n",
       "│ 794        ┆ 2          ┆        ┆           ┆   ┆           ┆           ┆           ┆           │\n",
       "│ 1700252144 ┆ 1949.55978 ┆ 0.01   ┆ 1949.555  ┆ … ┆ 0.0       ┆ 0.326737  ┆ 0.000278  ┆ 1.7245e-8 │\n",
       "│ 894        ┆ 2          ┆        ┆           ┆   ┆           ┆           ┆           ┆           │\n",
       "│ 1700252144 ┆ 1949.73863 ┆ 0.01   ┆ 1949.735  ┆ … ┆ 0.0       ┆ 0.326737  ┆ 0.000278  ┆ 1.7245e-8 │\n",
       "│ 994        ┆ 6          ┆        ┆           ┆   ┆           ┆           ┆           ┆           │\n",
       "└────────────┴────────────┴────────┴───────────┴───┴───────────┴───────────┴───────────┴───────────┘"
      ]
     },
     "execution_count": 26,
     "metadata": {},
     "output_type": "execute_result"
    }
   ],
   "source": [
    "features"
   ]
  }
 ],
 "metadata": {
  "kernelspec": {
   "display_name": "Python 3",
   "language": "python",
   "name": "python3"
  },
  "language_info": {
   "codemirror_mode": {
    "name": "ipython",
    "version": 3
   },
   "file_extension": ".py",
   "mimetype": "text/x-python",
   "name": "python",
   "nbconvert_exporter": "python",
   "pygments_lexer": "ipython3",
   "version": "3.11.7"
  }
 },
 "nbformat": 4,
 "nbformat_minor": 2
}
