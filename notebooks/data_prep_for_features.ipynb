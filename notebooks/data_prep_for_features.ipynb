{
 "cells": [
  {
   "cell_type": "code",
   "execution_count": 1,
   "metadata": {},
   "outputs": [],
   "source": [
    "import numpy as np\n",
    "import pandas as pd\n",
    "from tqdm import tqdm\n",
    "import json\n",
    "from functools import reduce\n",
    "import os \n",
    "from lobio.lob.order_book import OrderBook\n",
    "\n",
    "%load_ext autoreload\n",
    "%autoreload 2"
   ]
  },
  {
   "cell_type": "code",
   "execution_count": 2,
   "metadata": {},
   "outputs": [],
   "source": [
    "diffs_file = \"../data/diffs_only_prepared.json\"\n",
    "init_lob_file = \"../data/init_lob_prepared.json\"\n",
    "trades_file = \"../data/trades_prepared.csv\"\n",
    "\n",
    "with open(diffs_file, \"r\", encoding=\"utf-8\") as file:\n",
    "    diffs = json.load(file)\n",
    "with open(init_lob_file, \"r\", encoding=\"utf-8\") as file:\n",
    "    init_lob = json.load(file)\n",
    "\n",
    "trades = pd.read_csv(trades_file)"
   ]
  },
  {
   "cell_type": "code",
   "execution_count": 3,
   "metadata": {},
   "outputs": [],
   "source": [
    "order_book = OrderBook.create_lob_init(init_lob)"
   ]
  },
  {
   "cell_type": "code",
   "execution_count": 4,
   "metadata": {},
   "outputs": [
    {
     "name": "stderr",
     "output_type": "stream",
     "text": [
      "  8%|▊         | 769/9904 [00:00<00:01, 7684.57it/s]"
     ]
    },
    {
     "name": "stderr",
     "output_type": "stream",
     "text": [
      "100%|██████████| 9904/9904 [00:01<00:00, 6300.29it/s]\n"
     ]
    }
   ],
   "source": [
    "lob_snapshots = []\n",
    "diff_timestamps = []\n",
    "LOB_DEPTH = 10\n",
    "\n",
    "for i, diff in enumerate(tqdm(diffs)):\n",
    "    lob_snapshot = []\n",
    "    for j in range(LOB_DEPTH):\n",
    "        lob_snapshot += [order_book.asks[j].base, \n",
    "                            order_book.asks[j].quote, \n",
    "                            order_book.bids[j].base, \n",
    "                            order_book.bids[j].quote]\n",
    "    \n",
    "    lob_snapshots.append(lob_snapshot)\n",
    "    diff_timestamps.append(diff[0])\n",
    "\n",
    "    order_book.apply_historical_update(diff)"
   ]
  },
  {
   "cell_type": "code",
   "execution_count": 5,
   "metadata": {},
   "outputs": [],
   "source": [
    "book_column_names = [[f'ask[{i}].price', f'ask[{i}].amount', f'bid[{i}].price', f'bid[{i}].amount'] for i in range(LOB_DEPTH)]\n",
    "book_column_names = reduce(lambda x, y: x + y, book_column_names)"
   ]
  },
  {
   "cell_type": "code",
   "execution_count": 6,
   "metadata": {},
   "outputs": [],
   "source": [
    "book_data = pd.DataFrame(data = np.array(lob_snapshots), columns=book_column_names, index=diff_timestamps)\n",
    "book_data.index.name = 'timestamp'\n",
    "\n",
    "trades_data = trades.set_index('timestamp')"
   ]
  },
  {
   "cell_type": "code",
   "execution_count": 7,
   "metadata": {},
   "outputs": [],
   "source": [
    "if not os.path.isdir(\"./exchange_data\"):\n",
    "    os.mkdir(\"./exchange_data\")"
   ]
  },
  {
   "cell_type": "code",
   "execution_count": 8,
   "metadata": {},
   "outputs": [],
   "source": [
    "book_data.to_csv('./exchange_data/book.csv', sep=',')"
   ]
  },
  {
   "cell_type": "code",
   "execution_count": 9,
   "metadata": {},
   "outputs": [],
   "source": [
    "trades_data.to_csv('./exchange_data/trades.csv', sep=',')"
   ]
  },
  {
   "cell_type": "code",
   "execution_count": null,
   "metadata": {},
   "outputs": [],
   "source": []
  }
 ],
 "metadata": {
  "kernelspec": {
   "display_name": "Python 3",
   "language": "python",
   "name": "python3"
  },
  "language_info": {
   "codemirror_mode": {
    "name": "ipython",
    "version": 3
   },
   "file_extension": ".py",
   "mimetype": "text/x-python",
   "name": "python",
   "nbconvert_exporter": "python",
   "pygments_lexer": "ipython3",
   "version": "3.11.7"
  }
 },
 "nbformat": 4,
 "nbformat_minor": 2
}
